{
 "cells": [
  {
   "cell_type": "code",
   "execution_count": 1,
   "id": "17af16ab",
   "metadata": {},
   "outputs": [],
   "source": [
    "import pandas as pd"
   ]
  },
  {
   "cell_type": "code",
   "execution_count": 2,
   "id": "c5d49ac8",
   "metadata": {},
   "outputs": [],
   "source": [
    "# List semua file CSV yang ingin digabungkan\n",
    "file_paths = [\n",
    "    'kg_qa.csv', 'km_qa.csv', 'kn_qa.csv', 'kr_qa.csv', 'detik_qa.csv'\n",
    "]\n",
    "\n",
    "# Membaca dan menggabungkan semua file\n",
    "all_data = pd.concat((pd.read_csv(file) for file in file_paths), ignore_index=True)\n",
    "\n",
    "# Menyimpan hasil gabungan ke file baru\n",
    "all_data.to_csv('combined_qa.csv', index=False, encoding='utf-8-sig')"
   ]
  }
 ],
 "metadata": {
  "kernelspec": {
   "display_name": "sft",
   "language": "python",
   "name": "python3"
  },
  "language_info": {
   "codemirror_mode": {
    "name": "ipython",
    "version": 3
   },
   "file_extension": ".py",
   "mimetype": "text/x-python",
   "name": "python",
   "nbconvert_exporter": "python",
   "pygments_lexer": "ipython3",
   "version": "3.12.11"
  }
 },
 "nbformat": 4,
 "nbformat_minor": 5
}
